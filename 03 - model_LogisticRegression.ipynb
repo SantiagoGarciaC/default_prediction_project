{
  "cells": [
    {
      "cell_type": "markdown",
      "metadata": {
        "id": "-9m_Eyfa48gQ"
      },
      "source": [
        "<a href=\"https://colab.research.google.com/github/SantiagoGarciaC/default_prediction_project/blob/main/03%20-%20model_LogisticRegression.ipynb\" target=\"_parent\"><img src=\"https://colab.research.google.com/assets/colab-badge.svg\" alt=\"Open in Colab\"/></a>"
      ]
    },
    {
      "cell_type": "markdown",
      "metadata": {
        "id": "qaIWJpBoe1rL"
      },
      "source": [
        "## Importación de librerías"
      ]
    },
    {
      "cell_type": "code",
      "execution_count": 29,
      "metadata": {
        "id": "sCYYCXCojGrW"
      },
      "outputs": [],
      "source": [
        "import pandas as pd\n",
        "import numpy as np\n",
        "import matplotlib.pyplot as plt\n",
        "from sklearn.ensemble import RandomForestClassifier\n",
        "from sklearn.svm import SVC\n",
        "from sklearn.naive_bayes import GaussianNB\n",
        "from sklearn.tree import DecisionTreeClassifier\n",
        "from sklearn.linear_model import LogisticRegression\n",
        "from sklearn.decomposition import PCA\n",
        "from sklearn.pipeline import Pipeline\n",
        "from sklearn.pipeline import make_pipeline\n",
        "from sklearn.model_selection import train_test_split, KFold, ShuffleSplit, cross_val_score, learning_curve, cross_validate"
      ]
    },
    {
      "cell_type": "code",
      "execution_count": 2,
      "metadata": {
        "id": "F0wT43OEjIDk"
      },
      "outputs": [],
      "source": [
        "data = pd.read_csv('https://raw.githubusercontent.com/SantiagoGarciaC/default_prediction_project/main/processed_data.csv', index_col='customer_ID')"
      ]
    },
    {
      "cell_type": "code",
      "execution_count": 3,
      "metadata": {
        "colab": {
          "base_uri": "https://localhost:8080/",
          "height": 488
        },
        "id": "ZpkrQjRVjLKu",
        "outputId": "ccbcabad-add3-48bf-a626-cfd4e4b2de39"
      },
      "outputs": [
        {
          "data": {
            "text/html": [
              "<div>\n",
              "<style scoped>\n",
              "    .dataframe tbody tr th:only-of-type {\n",
              "        vertical-align: middle;\n",
              "    }\n",
              "\n",
              "    .dataframe tbody tr th {\n",
              "        vertical-align: top;\n",
              "    }\n",
              "\n",
              "    .dataframe thead th {\n",
              "        text-align: right;\n",
              "    }\n",
              "</style>\n",
              "<table border=\"1\" class=\"dataframe\">\n",
              "  <thead>\n",
              "    <tr style=\"text-align: right;\">\n",
              "      <th></th>\n",
              "      <th>P_2</th>\n",
              "      <th>D_39</th>\n",
              "      <th>B_1</th>\n",
              "      <th>B_2</th>\n",
              "      <th>R_1</th>\n",
              "      <th>S_3</th>\n",
              "      <th>D_41</th>\n",
              "      <th>B_3</th>\n",
              "      <th>D_43</th>\n",
              "      <th>D_44</th>\n",
              "      <th>...</th>\n",
              "      <th>D_76_3</th>\n",
              "      <th>D_42_1</th>\n",
              "      <th>D_42_2</th>\n",
              "      <th>D_42_3</th>\n",
              "      <th>D_42_4</th>\n",
              "      <th>D_82_1</th>\n",
              "      <th>D_82_2</th>\n",
              "      <th>D_82_3</th>\n",
              "      <th>D_82_4</th>\n",
              "      <th>D_82_5</th>\n",
              "    </tr>\n",
              "    <tr>\n",
              "      <th>customer_ID</th>\n",
              "      <th></th>\n",
              "      <th></th>\n",
              "      <th></th>\n",
              "      <th></th>\n",
              "      <th></th>\n",
              "      <th></th>\n",
              "      <th></th>\n",
              "      <th></th>\n",
              "      <th></th>\n",
              "      <th></th>\n",
              "      <th></th>\n",
              "      <th></th>\n",
              "      <th></th>\n",
              "      <th></th>\n",
              "      <th></th>\n",
              "      <th></th>\n",
              "      <th></th>\n",
              "      <th></th>\n",
              "      <th></th>\n",
              "      <th></th>\n",
              "      <th></th>\n",
              "    </tr>\n",
              "  </thead>\n",
              "  <tbody>\n",
              "    <tr>\n",
              "      <th>0000099d6bd597052cdcda90ffabf56573fe9d7c79be5fbac11a8ed792feb62a</th>\n",
              "      <td>0.875312</td>\n",
              "      <td>0.003838</td>\n",
              "      <td>0.024047</td>\n",
              "      <td>0.996822</td>\n",
              "      <td>0.002516</td>\n",
              "      <td>0.179691</td>\n",
              "      <td>0.001590</td>\n",
              "      <td>0.004999</td>\n",
              "      <td>0.083017</td>\n",
              "      <td>0.215063</td>\n",
              "      <td>...</td>\n",
              "      <td>1</td>\n",
              "      <td>0</td>\n",
              "      <td>0</td>\n",
              "      <td>1</td>\n",
              "      <td>0</td>\n",
              "      <td>1</td>\n",
              "      <td>0</td>\n",
              "      <td>0</td>\n",
              "      <td>0</td>\n",
              "      <td>0</td>\n",
              "    </tr>\n",
              "    <tr>\n",
              "      <th>00000fd6641609c6ece5454664794f0340ad84dddce9a267a310b5ae68e9d8e5</th>\n",
              "      <td>0.849264</td>\n",
              "      <td>0.080220</td>\n",
              "      <td>0.034198</td>\n",
              "      <td>0.982920</td>\n",
              "      <td>0.003504</td>\n",
              "      <td>0.182143</td>\n",
              "      <td>0.001580</td>\n",
              "      <td>0.004361</td>\n",
              "      <td>0.098416</td>\n",
              "      <td>0.214928</td>\n",
              "      <td>...</td>\n",
              "      <td>0</td>\n",
              "      <td>0</td>\n",
              "      <td>1</td>\n",
              "      <td>0</td>\n",
              "      <td>0</td>\n",
              "      <td>0</td>\n",
              "      <td>0</td>\n",
              "      <td>0</td>\n",
              "      <td>0</td>\n",
              "      <td>1</td>\n",
              "    </tr>\n",
              "    <tr>\n",
              "      <th>00001b22f846c82c51f6e3958ccd81970162bae8b007e80662ef27519fcc18c1</th>\n",
              "      <td>0.832897</td>\n",
              "      <td>0.001402</td>\n",
              "      <td>0.018378</td>\n",
              "      <td>0.808781</td>\n",
              "      <td>0.003717</td>\n",
              "      <td>0.116386</td>\n",
              "      <td>0.002222</td>\n",
              "      <td>0.004223</td>\n",
              "      <td>0.097365</td>\n",
              "      <td>0.218487</td>\n",
              "      <td>...</td>\n",
              "      <td>1</td>\n",
              "      <td>1</td>\n",
              "      <td>0</td>\n",
              "      <td>0</td>\n",
              "      <td>0</td>\n",
              "      <td>1</td>\n",
              "      <td>0</td>\n",
              "      <td>0</td>\n",
              "      <td>0</td>\n",
              "      <td>0</td>\n",
              "    </tr>\n",
              "    <tr>\n",
              "      <th>000041bdba6ecadd89a52d11886e8eaaec9325906c9723355abb5ca523658edc</th>\n",
              "      <td>0.618804</td>\n",
              "      <td>0.018090</td>\n",
              "      <td>0.059654</td>\n",
              "      <td>0.947360</td>\n",
              "      <td>0.003174</td>\n",
              "      <td>0.224490</td>\n",
              "      <td>0.001753</td>\n",
              "      <td>0.004972</td>\n",
              "      <td>0.084463</td>\n",
              "      <td>0.215275</td>\n",
              "      <td>...</td>\n",
              "      <td>0</td>\n",
              "      <td>1</td>\n",
              "      <td>0</td>\n",
              "      <td>0</td>\n",
              "      <td>0</td>\n",
              "      <td>0</td>\n",
              "      <td>0</td>\n",
              "      <td>0</td>\n",
              "      <td>0</td>\n",
              "      <td>1</td>\n",
              "    </tr>\n",
              "    <tr>\n",
              "      <th>00007889e4fcd2614b6cbe7f8f3d2e5c728eca32d9eb8ad51ca8b8c4a24cefed</th>\n",
              "      <td>0.843028</td>\n",
              "      <td>0.001574</td>\n",
              "      <td>0.019535</td>\n",
              "      <td>0.807655</td>\n",
              "      <td>0.002329</td>\n",
              "      <td>0.199633</td>\n",
              "      <td>0.001705</td>\n",
              "      <td>0.003897</td>\n",
              "      <td>0.082417</td>\n",
              "      <td>0.214646</td>\n",
              "      <td>...</td>\n",
              "      <td>1</td>\n",
              "      <td>1</td>\n",
              "      <td>0</td>\n",
              "      <td>0</td>\n",
              "      <td>0</td>\n",
              "      <td>0</td>\n",
              "      <td>0</td>\n",
              "      <td>1</td>\n",
              "      <td>0</td>\n",
              "      <td>0</td>\n",
              "    </tr>\n",
              "    <tr>\n",
              "      <th>000084e5023181993c2e1b665ac88dbb1ce9ef621ec5370150fc2f8bdca6202c</th>\n",
              "      <td>0.768303</td>\n",
              "      <td>0.074289</td>\n",
              "      <td>0.035286</td>\n",
              "      <td>0.966840</td>\n",
              "      <td>0.003207</td>\n",
              "      <td>0.243259</td>\n",
              "      <td>0.001457</td>\n",
              "      <td>0.005165</td>\n",
              "      <td>0.076223</td>\n",
              "      <td>0.243934</td>\n",
              "      <td>...</td>\n",
              "      <td>0</td>\n",
              "      <td>1</td>\n",
              "      <td>0</td>\n",
              "      <td>0</td>\n",
              "      <td>0</td>\n",
              "      <td>0</td>\n",
              "      <td>0</td>\n",
              "      <td>0</td>\n",
              "      <td>1</td>\n",
              "      <td>0</td>\n",
              "    </tr>\n",
              "    <tr>\n",
              "      <th>000098081fde4fd64bc4d503a5d6f86a0aedc425c96f5235f98b0f47c9d7d8d4</th>\n",
              "      <td>0.500558</td>\n",
              "      <td>0.003722</td>\n",
              "      <td>0.067801</td>\n",
              "      <td>0.245061</td>\n",
              "      <td>0.002203</td>\n",
              "      <td>0.260986</td>\n",
              "      <td>0.001726</td>\n",
              "      <td>0.102243</td>\n",
              "      <td>0.087703</td>\n",
              "      <td>0.215460</td>\n",
              "      <td>...</td>\n",
              "      <td>0</td>\n",
              "      <td>0</td>\n",
              "      <td>0</td>\n",
              "      <td>1</td>\n",
              "      <td>0</td>\n",
              "      <td>1</td>\n",
              "      <td>0</td>\n",
              "      <td>0</td>\n",
              "      <td>0</td>\n",
              "      <td>0</td>\n",
              "    </tr>\n",
              "    <tr>\n",
              "      <th>0000d17a1447b25a01e42e1ac56b091bb7cbb06317be4cb59b50fec59e0b6381</th>\n",
              "      <td>0.930460</td>\n",
              "      <td>0.131852</td>\n",
              "      <td>0.061945</td>\n",
              "      <td>0.231213</td>\n",
              "      <td>0.003180</td>\n",
              "      <td>0.176794</td>\n",
              "      <td>0.000823</td>\n",
              "      <td>0.106465</td>\n",
              "      <td>0.076923</td>\n",
              "      <td>0.214874</td>\n",
              "      <td>...</td>\n",
              "      <td>1</td>\n",
              "      <td>1</td>\n",
              "      <td>0</td>\n",
              "      <td>0</td>\n",
              "      <td>0</td>\n",
              "      <td>0</td>\n",
              "      <td>0</td>\n",
              "      <td>1</td>\n",
              "      <td>0</td>\n",
              "      <td>0</td>\n",
              "    </tr>\n",
              "    <tr>\n",
              "      <th>0000f99513770170a1aba690daeeb8a96da4a39f11fc27da5c30a79db61c1e85</th>\n",
              "      <td>0.471524</td>\n",
              "      <td>0.046429</td>\n",
              "      <td>0.713258</td>\n",
              "      <td>0.024215</td>\n",
              "      <td>0.003508</td>\n",
              "      <td>0.195116</td>\n",
              "      <td>0.001902</td>\n",
              "      <td>0.941832</td>\n",
              "      <td>0.082029</td>\n",
              "      <td>0.386239</td>\n",
              "      <td>...</td>\n",
              "      <td>0</td>\n",
              "      <td>0</td>\n",
              "      <td>0</td>\n",
              "      <td>0</td>\n",
              "      <td>1</td>\n",
              "      <td>0</td>\n",
              "      <td>0</td>\n",
              "      <td>1</td>\n",
              "      <td>0</td>\n",
              "      <td>0</td>\n",
              "    </tr>\n",
              "    <tr>\n",
              "      <th>00013181a0c5fc8f1ea38cd2b90fe8ad2fa8cad9d9f13e4063bdf6b0f7d51eb6</th>\n",
              "      <td>0.502687</td>\n",
              "      <td>0.002274</td>\n",
              "      <td>0.027758</td>\n",
              "      <td>0.809228</td>\n",
              "      <td>0.089396</td>\n",
              "      <td>0.207390</td>\n",
              "      <td>0.001989</td>\n",
              "      <td>0.004325</td>\n",
              "      <td>0.100000</td>\n",
              "      <td>0.436305</td>\n",
              "      <td>...</td>\n",
              "      <td>0</td>\n",
              "      <td>0</td>\n",
              "      <td>0</td>\n",
              "      <td>0</td>\n",
              "      <td>1</td>\n",
              "      <td>0</td>\n",
              "      <td>1</td>\n",
              "      <td>0</td>\n",
              "      <td>0</td>\n",
              "      <td>0</td>\n",
              "    </tr>\n",
              "  </tbody>\n",
              "</table>\n",
              "<p>10 rows × 215 columns</p>\n",
              "</div>"
            ],
            "text/plain": [
              "                                                         P_2      D_39  \\\n",
              "customer_ID                                                              \n",
              "0000099d6bd597052cdcda90ffabf56573fe9d7c79be5fb...  0.875312  0.003838   \n",
              "00000fd6641609c6ece5454664794f0340ad84dddce9a26...  0.849264  0.080220   \n",
              "00001b22f846c82c51f6e3958ccd81970162bae8b007e80...  0.832897  0.001402   \n",
              "000041bdba6ecadd89a52d11886e8eaaec9325906c97233...  0.618804  0.018090   \n",
              "00007889e4fcd2614b6cbe7f8f3d2e5c728eca32d9eb8ad...  0.843028  0.001574   \n",
              "000084e5023181993c2e1b665ac88dbb1ce9ef621ec5370...  0.768303  0.074289   \n",
              "000098081fde4fd64bc4d503a5d6f86a0aedc425c96f523...  0.500558  0.003722   \n",
              "0000d17a1447b25a01e42e1ac56b091bb7cbb06317be4cb...  0.930460  0.131852   \n",
              "0000f99513770170a1aba690daeeb8a96da4a39f11fc27d...  0.471524  0.046429   \n",
              "00013181a0c5fc8f1ea38cd2b90fe8ad2fa8cad9d9f13e4...  0.502687  0.002274   \n",
              "\n",
              "                                                         B_1       B_2  \\\n",
              "customer_ID                                                              \n",
              "0000099d6bd597052cdcda90ffabf56573fe9d7c79be5fb...  0.024047  0.996822   \n",
              "00000fd6641609c6ece5454664794f0340ad84dddce9a26...  0.034198  0.982920   \n",
              "00001b22f846c82c51f6e3958ccd81970162bae8b007e80...  0.018378  0.808781   \n",
              "000041bdba6ecadd89a52d11886e8eaaec9325906c97233...  0.059654  0.947360   \n",
              "00007889e4fcd2614b6cbe7f8f3d2e5c728eca32d9eb8ad...  0.019535  0.807655   \n",
              "000084e5023181993c2e1b665ac88dbb1ce9ef621ec5370...  0.035286  0.966840   \n",
              "000098081fde4fd64bc4d503a5d6f86a0aedc425c96f523...  0.067801  0.245061   \n",
              "0000d17a1447b25a01e42e1ac56b091bb7cbb06317be4cb...  0.061945  0.231213   \n",
              "0000f99513770170a1aba690daeeb8a96da4a39f11fc27d...  0.713258  0.024215   \n",
              "00013181a0c5fc8f1ea38cd2b90fe8ad2fa8cad9d9f13e4...  0.027758  0.809228   \n",
              "\n",
              "                                                         R_1       S_3  \\\n",
              "customer_ID                                                              \n",
              "0000099d6bd597052cdcda90ffabf56573fe9d7c79be5fb...  0.002516  0.179691   \n",
              "00000fd6641609c6ece5454664794f0340ad84dddce9a26...  0.003504  0.182143   \n",
              "00001b22f846c82c51f6e3958ccd81970162bae8b007e80...  0.003717  0.116386   \n",
              "000041bdba6ecadd89a52d11886e8eaaec9325906c97233...  0.003174  0.224490   \n",
              "00007889e4fcd2614b6cbe7f8f3d2e5c728eca32d9eb8ad...  0.002329  0.199633   \n",
              "000084e5023181993c2e1b665ac88dbb1ce9ef621ec5370...  0.003207  0.243259   \n",
              "000098081fde4fd64bc4d503a5d6f86a0aedc425c96f523...  0.002203  0.260986   \n",
              "0000d17a1447b25a01e42e1ac56b091bb7cbb06317be4cb...  0.003180  0.176794   \n",
              "0000f99513770170a1aba690daeeb8a96da4a39f11fc27d...  0.003508  0.195116   \n",
              "00013181a0c5fc8f1ea38cd2b90fe8ad2fa8cad9d9f13e4...  0.089396  0.207390   \n",
              "\n",
              "                                                        D_41       B_3  \\\n",
              "customer_ID                                                              \n",
              "0000099d6bd597052cdcda90ffabf56573fe9d7c79be5fb...  0.001590  0.004999   \n",
              "00000fd6641609c6ece5454664794f0340ad84dddce9a26...  0.001580  0.004361   \n",
              "00001b22f846c82c51f6e3958ccd81970162bae8b007e80...  0.002222  0.004223   \n",
              "000041bdba6ecadd89a52d11886e8eaaec9325906c97233...  0.001753  0.004972   \n",
              "00007889e4fcd2614b6cbe7f8f3d2e5c728eca32d9eb8ad...  0.001705  0.003897   \n",
              "000084e5023181993c2e1b665ac88dbb1ce9ef621ec5370...  0.001457  0.005165   \n",
              "000098081fde4fd64bc4d503a5d6f86a0aedc425c96f523...  0.001726  0.102243   \n",
              "0000d17a1447b25a01e42e1ac56b091bb7cbb06317be4cb...  0.000823  0.106465   \n",
              "0000f99513770170a1aba690daeeb8a96da4a39f11fc27d...  0.001902  0.941832   \n",
              "00013181a0c5fc8f1ea38cd2b90fe8ad2fa8cad9d9f13e4...  0.001989  0.004325   \n",
              "\n",
              "                                                        D_43      D_44  ...  \\\n",
              "customer_ID                                                             ...   \n",
              "0000099d6bd597052cdcda90ffabf56573fe9d7c79be5fb...  0.083017  0.215063  ...   \n",
              "00000fd6641609c6ece5454664794f0340ad84dddce9a26...  0.098416  0.214928  ...   \n",
              "00001b22f846c82c51f6e3958ccd81970162bae8b007e80...  0.097365  0.218487  ...   \n",
              "000041bdba6ecadd89a52d11886e8eaaec9325906c97233...  0.084463  0.215275  ...   \n",
              "00007889e4fcd2614b6cbe7f8f3d2e5c728eca32d9eb8ad...  0.082417  0.214646  ...   \n",
              "000084e5023181993c2e1b665ac88dbb1ce9ef621ec5370...  0.076223  0.243934  ...   \n",
              "000098081fde4fd64bc4d503a5d6f86a0aedc425c96f523...  0.087703  0.215460  ...   \n",
              "0000d17a1447b25a01e42e1ac56b091bb7cbb06317be4cb...  0.076923  0.214874  ...   \n",
              "0000f99513770170a1aba690daeeb8a96da4a39f11fc27d...  0.082029  0.386239  ...   \n",
              "00013181a0c5fc8f1ea38cd2b90fe8ad2fa8cad9d9f13e4...  0.100000  0.436305  ...   \n",
              "\n",
              "                                                    D_76_3  D_42_1  D_42_2  \\\n",
              "customer_ID                                                                  \n",
              "0000099d6bd597052cdcda90ffabf56573fe9d7c79be5fb...       1       0       0   \n",
              "00000fd6641609c6ece5454664794f0340ad84dddce9a26...       0       0       1   \n",
              "00001b22f846c82c51f6e3958ccd81970162bae8b007e80...       1       1       0   \n",
              "000041bdba6ecadd89a52d11886e8eaaec9325906c97233...       0       1       0   \n",
              "00007889e4fcd2614b6cbe7f8f3d2e5c728eca32d9eb8ad...       1       1       0   \n",
              "000084e5023181993c2e1b665ac88dbb1ce9ef621ec5370...       0       1       0   \n",
              "000098081fde4fd64bc4d503a5d6f86a0aedc425c96f523...       0       0       0   \n",
              "0000d17a1447b25a01e42e1ac56b091bb7cbb06317be4cb...       1       1       0   \n",
              "0000f99513770170a1aba690daeeb8a96da4a39f11fc27d...       0       0       0   \n",
              "00013181a0c5fc8f1ea38cd2b90fe8ad2fa8cad9d9f13e4...       0       0       0   \n",
              "\n",
              "                                                    D_42_3  D_42_4  D_82_1  \\\n",
              "customer_ID                                                                  \n",
              "0000099d6bd597052cdcda90ffabf56573fe9d7c79be5fb...       1       0       1   \n",
              "00000fd6641609c6ece5454664794f0340ad84dddce9a26...       0       0       0   \n",
              "00001b22f846c82c51f6e3958ccd81970162bae8b007e80...       0       0       1   \n",
              "000041bdba6ecadd89a52d11886e8eaaec9325906c97233...       0       0       0   \n",
              "00007889e4fcd2614b6cbe7f8f3d2e5c728eca32d9eb8ad...       0       0       0   \n",
              "000084e5023181993c2e1b665ac88dbb1ce9ef621ec5370...       0       0       0   \n",
              "000098081fde4fd64bc4d503a5d6f86a0aedc425c96f523...       1       0       1   \n",
              "0000d17a1447b25a01e42e1ac56b091bb7cbb06317be4cb...       0       0       0   \n",
              "0000f99513770170a1aba690daeeb8a96da4a39f11fc27d...       0       1       0   \n",
              "00013181a0c5fc8f1ea38cd2b90fe8ad2fa8cad9d9f13e4...       0       1       0   \n",
              "\n",
              "                                                    D_82_2  D_82_3  D_82_4  \\\n",
              "customer_ID                                                                  \n",
              "0000099d6bd597052cdcda90ffabf56573fe9d7c79be5fb...       0       0       0   \n",
              "00000fd6641609c6ece5454664794f0340ad84dddce9a26...       0       0       0   \n",
              "00001b22f846c82c51f6e3958ccd81970162bae8b007e80...       0       0       0   \n",
              "000041bdba6ecadd89a52d11886e8eaaec9325906c97233...       0       0       0   \n",
              "00007889e4fcd2614b6cbe7f8f3d2e5c728eca32d9eb8ad...       0       1       0   \n",
              "000084e5023181993c2e1b665ac88dbb1ce9ef621ec5370...       0       0       1   \n",
              "000098081fde4fd64bc4d503a5d6f86a0aedc425c96f523...       0       0       0   \n",
              "0000d17a1447b25a01e42e1ac56b091bb7cbb06317be4cb...       0       1       0   \n",
              "0000f99513770170a1aba690daeeb8a96da4a39f11fc27d...       0       1       0   \n",
              "00013181a0c5fc8f1ea38cd2b90fe8ad2fa8cad9d9f13e4...       1       0       0   \n",
              "\n",
              "                                                    D_82_5  \n",
              "customer_ID                                                 \n",
              "0000099d6bd597052cdcda90ffabf56573fe9d7c79be5fb...       0  \n",
              "00000fd6641609c6ece5454664794f0340ad84dddce9a26...       1  \n",
              "00001b22f846c82c51f6e3958ccd81970162bae8b007e80...       0  \n",
              "000041bdba6ecadd89a52d11886e8eaaec9325906c97233...       1  \n",
              "00007889e4fcd2614b6cbe7f8f3d2e5c728eca32d9eb8ad...       0  \n",
              "000084e5023181993c2e1b665ac88dbb1ce9ef621ec5370...       0  \n",
              "000098081fde4fd64bc4d503a5d6f86a0aedc425c96f523...       0  \n",
              "0000d17a1447b25a01e42e1ac56b091bb7cbb06317be4cb...       0  \n",
              "0000f99513770170a1aba690daeeb8a96da4a39f11fc27d...       0  \n",
              "00013181a0c5fc8f1ea38cd2b90fe8ad2fa8cad9d9f13e4...       0  \n",
              "\n",
              "[10 rows x 215 columns]"
            ]
          },
          "execution_count": 3,
          "metadata": {},
          "output_type": "execute_result"
        }
      ],
      "source": [
        "data.head(10)"
      ]
    },
    {
      "cell_type": "code",
      "execution_count": 4,
      "metadata": {
        "colab": {
          "base_uri": "https://localhost:8080/",
          "height": 424
        },
        "id": "NEnKrdCH6rX1",
        "outputId": "e1535674-5f90-4c87-836f-76e5282ef03e"
      },
      "outputs": [
        {
          "data": {
            "text/html": [
              "<div>\n",
              "<style scoped>\n",
              "    .dataframe tbody tr th:only-of-type {\n",
              "        vertical-align: middle;\n",
              "    }\n",
              "\n",
              "    .dataframe tbody tr th {\n",
              "        vertical-align: top;\n",
              "    }\n",
              "\n",
              "    .dataframe thead th {\n",
              "        text-align: right;\n",
              "    }\n",
              "</style>\n",
              "<table border=\"1\" class=\"dataframe\">\n",
              "  <thead>\n",
              "    <tr style=\"text-align: right;\">\n",
              "      <th></th>\n",
              "      <th>count</th>\n",
              "      <th>mean</th>\n",
              "      <th>std</th>\n",
              "      <th>min</th>\n",
              "      <th>25%</th>\n",
              "      <th>50%</th>\n",
              "      <th>75%</th>\n",
              "      <th>max</th>\n",
              "    </tr>\n",
              "  </thead>\n",
              "  <tbody>\n",
              "    <tr>\n",
              "      <th>P_2</th>\n",
              "      <td>8294.0</td>\n",
              "      <td>0.654258</td>\n",
              "      <td>0.182295</td>\n",
              "      <td>0.0</td>\n",
              "      <td>0.514044</td>\n",
              "      <td>0.678349</td>\n",
              "      <td>0.814038</td>\n",
              "      <td>1.0</td>\n",
              "    </tr>\n",
              "    <tr>\n",
              "      <th>D_39</th>\n",
              "      <td>8294.0</td>\n",
              "      <td>0.057252</td>\n",
              "      <td>0.062320</td>\n",
              "      <td>0.0</td>\n",
              "      <td>0.007797</td>\n",
              "      <td>0.041692</td>\n",
              "      <td>0.086000</td>\n",
              "      <td>1.0</td>\n",
              "    </tr>\n",
              "    <tr>\n",
              "      <th>B_1</th>\n",
              "      <td>8294.0</td>\n",
              "      <td>0.111387</td>\n",
              "      <td>0.151525</td>\n",
              "      <td>0.0</td>\n",
              "      <td>0.027384</td>\n",
              "      <td>0.044654</td>\n",
              "      <td>0.121005</td>\n",
              "      <td>1.0</td>\n",
              "    </tr>\n",
              "    <tr>\n",
              "      <th>B_2</th>\n",
              "      <td>8294.0</td>\n",
              "      <td>0.609472</td>\n",
              "      <td>0.347717</td>\n",
              "      <td>0.0</td>\n",
              "      <td>0.257713</td>\n",
              "      <td>0.806801</td>\n",
              "      <td>0.895288</td>\n",
              "      <td>1.0</td>\n",
              "    </tr>\n",
              "    <tr>\n",
              "      <th>R_1</th>\n",
              "      <td>8294.0</td>\n",
              "      <td>0.046675</td>\n",
              "      <td>0.091534</td>\n",
              "      <td>0.0</td>\n",
              "      <td>0.002698</td>\n",
              "      <td>0.003293</td>\n",
              "      <td>0.046538</td>\n",
              "      <td>1.0</td>\n",
              "    </tr>\n",
              "    <tr>\n",
              "      <th>...</th>\n",
              "      <td>...</td>\n",
              "      <td>...</td>\n",
              "      <td>...</td>\n",
              "      <td>...</td>\n",
              "      <td>...</td>\n",
              "      <td>...</td>\n",
              "      <td>...</td>\n",
              "      <td>...</td>\n",
              "    </tr>\n",
              "    <tr>\n",
              "      <th>D_82_1</th>\n",
              "      <td>8294.0</td>\n",
              "      <td>0.197492</td>\n",
              "      <td>0.398131</td>\n",
              "      <td>0.0</td>\n",
              "      <td>0.000000</td>\n",
              "      <td>0.000000</td>\n",
              "      <td>0.000000</td>\n",
              "      <td>1.0</td>\n",
              "    </tr>\n",
              "    <tr>\n",
              "      <th>D_82_2</th>\n",
              "      <td>8294.0</td>\n",
              "      <td>0.197613</td>\n",
              "      <td>0.398222</td>\n",
              "      <td>0.0</td>\n",
              "      <td>0.000000</td>\n",
              "      <td>0.000000</td>\n",
              "      <td>0.000000</td>\n",
              "      <td>1.0</td>\n",
              "    </tr>\n",
              "    <tr>\n",
              "      <th>D_82_3</th>\n",
              "      <td>8294.0</td>\n",
              "      <td>0.199904</td>\n",
              "      <td>0.399952</td>\n",
              "      <td>0.0</td>\n",
              "      <td>0.000000</td>\n",
              "      <td>0.000000</td>\n",
              "      <td>0.000000</td>\n",
              "      <td>1.0</td>\n",
              "    </tr>\n",
              "    <tr>\n",
              "      <th>D_82_4</th>\n",
              "      <td>8294.0</td>\n",
              "      <td>0.201350</td>\n",
              "      <td>0.401033</td>\n",
              "      <td>0.0</td>\n",
              "      <td>0.000000</td>\n",
              "      <td>0.000000</td>\n",
              "      <td>0.000000</td>\n",
              "      <td>1.0</td>\n",
              "    </tr>\n",
              "    <tr>\n",
              "      <th>D_82_5</th>\n",
              "      <td>8294.0</td>\n",
              "      <td>0.203641</td>\n",
              "      <td>0.402729</td>\n",
              "      <td>0.0</td>\n",
              "      <td>0.000000</td>\n",
              "      <td>0.000000</td>\n",
              "      <td>0.000000</td>\n",
              "      <td>1.0</td>\n",
              "    </tr>\n",
              "  </tbody>\n",
              "</table>\n",
              "<p>215 rows × 8 columns</p>\n",
              "</div>"
            ],
            "text/plain": [
              "         count      mean       std  min       25%       50%       75%  max\n",
              "P_2     8294.0  0.654258  0.182295  0.0  0.514044  0.678349  0.814038  1.0\n",
              "D_39    8294.0  0.057252  0.062320  0.0  0.007797  0.041692  0.086000  1.0\n",
              "B_1     8294.0  0.111387  0.151525  0.0  0.027384  0.044654  0.121005  1.0\n",
              "B_2     8294.0  0.609472  0.347717  0.0  0.257713  0.806801  0.895288  1.0\n",
              "R_1     8294.0  0.046675  0.091534  0.0  0.002698  0.003293  0.046538  1.0\n",
              "...        ...       ...       ...  ...       ...       ...       ...  ...\n",
              "D_82_1  8294.0  0.197492  0.398131  0.0  0.000000  0.000000  0.000000  1.0\n",
              "D_82_2  8294.0  0.197613  0.398222  0.0  0.000000  0.000000  0.000000  1.0\n",
              "D_82_3  8294.0  0.199904  0.399952  0.0  0.000000  0.000000  0.000000  1.0\n",
              "D_82_4  8294.0  0.201350  0.401033  0.0  0.000000  0.000000  0.000000  1.0\n",
              "D_82_5  8294.0  0.203641  0.402729  0.0  0.000000  0.000000  0.000000  1.0\n",
              "\n",
              "[215 rows x 8 columns]"
            ]
          },
          "execution_count": 4,
          "metadata": {},
          "output_type": "execute_result"
        }
      ],
      "source": [
        "data.describe().T"
      ]
    },
    {
      "cell_type": "code",
      "execution_count": 5,
      "metadata": {
        "colab": {
          "base_uri": "https://localhost:8080/"
        },
        "id": "8nmnyQfe6xYy",
        "outputId": "b69c1f1c-c8ce-4eec-c678-c5ab0d2da2b6"
      },
      "outputs": [
        {
          "data": {
            "text/plain": [
              "(8294, 215)"
            ]
          },
          "execution_count": 5,
          "metadata": {},
          "output_type": "execute_result"
        }
      ],
      "source": [
        "data.shape"
      ]
    },
    {
      "cell_type": "markdown",
      "metadata": {
        "id": "FLOde00avFYD"
      },
      "source": [
        "# Function for plot learning curves"
      ]
    },
    {
      "cell_type": "code",
      "execution_count": 6,
      "metadata": {
        "id": "w6l4pMQaivRU"
      },
      "outputs": [],
      "source": [
        "def plot_learning_curve(estimator,X,y,cv): \n",
        "  from sklearn.model_selection import learning_curve\n",
        "  train_sizes, train_scores, test_scores = learning_curve(estimator, X, y, cv=cv, shuffle=True)\n",
        "  train_scores_mean = np.mean(train_scores, axis=1)\n",
        "  train_scores_std = np.std(train_scores, axis=1)\n",
        "  test_scores_mean = np.mean(test_scores, axis=1)\n",
        "  test_scores_std = np.std(test_scores, axis=1)\n",
        "  # Plot learning curve\n",
        "  plt.grid()\n",
        "  plt.fill_between(\n",
        "          train_sizes,\n",
        "          train_scores_mean - train_scores_std,\n",
        "          train_scores_mean + train_scores_std,\n",
        "          alpha=0.1,\n",
        "          color=\"r\",\n",
        "      )\n",
        "  plt.fill_between(\n",
        "          train_sizes,\n",
        "          test_scores_mean - test_scores_std,\n",
        "          test_scores_mean + test_scores_std,\n",
        "          alpha=0.1,\n",
        "          color=\"g\",\n",
        "      )\n",
        "  plt.plot(train_sizes, train_scores_mean, \"o-\", color=\"r\", label=\"train score\")\n",
        "  plt.plot(train_sizes, test_scores_mean, \"o-\", color=\"g\", label=\"validation score\")\n",
        "  plt.legend(loc=\"best\")\n",
        "  plt.ylabel(\"Score\")\n",
        "  plt.xlabel(\"Training examples\")\n",
        "  plt.title(estimator.__class__.__name__)\n",
        "  return plt.show()"
      ]
    },
    {
      "cell_type": "markdown",
      "metadata": {
        "id": "ZF1KyKCgFMB5"
      },
      "source": [
        "## Train, Validation and Test Split Dataset"
      ]
    },
    {
      "cell_type": "code",
      "execution_count": 7,
      "metadata": {
        "colab": {
          "base_uri": "https://localhost:8080/"
        },
        "id": "EF-wStVxlUgj",
        "outputId": "fa5161e2-1d89-4bec-b7fe-15e299621bd3"
      },
      "outputs": [
        {
          "name": "stdout",
          "output_type": "stream",
          "text": [
            "test size 0.30\n",
            "val size is 0.43 (relative to 0.70) \n"
          ]
        }
      ],
      "source": [
        "X = data.drop(['target'], axis=1)\n",
        "y = data['target']\n",
        "\n",
        "test_size = 0.3\n",
        "val_size  = test_size/(1-test_size)\n",
        "print (\"test size %.2f\" %(test_size))\n",
        "print (\"val size is %.2f (relative to %.2f) \"%(val_size, 1-test_size))\n",
        "\n",
        "Xtv, Xts, ytv, yts = train_test_split(X, y, test_size=test_size, random_state=0)"
      ]
    },
    {
      "cell_type": "markdown",
      "metadata": {
        "id": "oXQ_0VV5vcRl"
      },
      "source": [
        "# Logistic Regression"
      ]
    },
    {
      "cell_type": "markdown",
      "metadata": {
        "id": "A1h_Eiiqvhwb"
      },
      "source": [
        "## Cross Validation for Logistic Regression"
      ]
    },
    {
      "cell_type": "code",
      "execution_count": 8,
      "metadata": {
        "id": "7jLgilIAvbps"
      },
      "outputs": [],
      "source": [
        "estimator = LogisticRegression(max_iter=500)"
      ]
    },
    {
      "cell_type": "code",
      "execution_count": 9,
      "metadata": {
        "id": "eOtYpBLhwCaE"
      },
      "outputs": [],
      "source": [
        "cross_val = cross_validate(estimator, Xtv, ytv, return_train_score=True, return_estimator=True,\n",
        "               cv=ShuffleSplit(n_splits=10, test_size=val_size))"
      ]
    },
    {
      "cell_type": "code",
      "execution_count": 10,
      "metadata": {
        "id": "npzBxWN0wLo7"
      },
      "outputs": [],
      "source": [
        "def report_cv_score(est):\n",
        "    print (\"validation score   %.3f (±%.4f) with %d splits\"%(np.mean(est[\"test_score\"]), np.std(est[\"test_score\"]), len(est[\"test_score\"])))\n",
        "    print (\"train score        %.3f (±%.4f) with %d splits\"%(np.mean(est[\"train_score\"]), np.std(est[\"train_score\"]), len(est[\"train_score\"])))"
      ]
    },
    {
      "cell_type": "code",
      "execution_count": 11,
      "metadata": {
        "colab": {
          "base_uri": "https://localhost:8080/"
        },
        "id": "Ydp2Y-uewMTj",
        "outputId": "486e8c53-f9d8-4302-b068-34967e24c3b8"
      },
      "outputs": [
        {
          "name": "stdout",
          "output_type": "stream",
          "text": [
            "validation score   0.872 (±0.0065) with 10 splits\n",
            "train score        0.893 (±0.0044) with 10 splits\n"
          ]
        }
      ],
      "source": [
        "report_cv_score(cross_val)"
      ]
    },
    {
      "cell_type": "markdown",
      "metadata": {
        "id": "xVLMvwA0mvz5"
      },
      "source": [
        "## Learning curves for Logistic Regression"
      ]
    },
    {
      "cell_type": "code",
      "execution_count": 12,
      "metadata": {
        "colab": {
          "base_uri": "https://localhost:8080/",
          "height": 295
        },
        "id": "ABdDR9DEXcYB",
        "outputId": "fa811f3a-45f9-48f8-a470-e166f98f931e"
      },
      "outputs": [
        {
          "data": {
            "image/png": "[encoded data removed]",
            "text/plain": [
              "<Figure size 432x288 with 1 Axes>"
            ]
          },
          "metadata": {
            "needs_background": "light"
          },
          "output_type": "display_data"
        }
      ],
      "source": [
        "cv = ShuffleSplit(n_splits=10, test_size=val_size)\n",
        "plot_learning_curve(estimator,Xtv,ytv,cv=cv)\n"
      ]
    },
    {
      "cell_type": "markdown",
      "metadata": {
        "id": "Z9t2LDw02zvP"
      },
      "source": [
        "# Logistic Regression with PCA"
      ]
    },
    {
      "cell_type": "code",
      "execution_count": 13,
      "metadata": {
        "id": "fkL-Bo45yKGN"
      },
      "outputs": [],
      "source": [
        "Xtr_v, Xts_v, ytr_v, yts_v = train_test_split(Xtv,ytv,test_size=val_size)"
      ]
    },
    {
      "cell_type": "code",
      "execution_count": 14,
      "metadata": {
        "colab": {
          "base_uri": "https://localhost:8080/"
        },
        "id": "a9HJCGPDyKob",
        "outputId": "d5a7b9db-11f9-443c-cb9b-6a79963fe524"
      },
      "outputs": [
        {
          "name": "stdout",
          "output_type": "stream",
          "text": [
            "......................................"
          ]
        }
      ],
      "source": [
        "dt = estimator\n",
        "cs = range(10,200,5)\n",
        "dtr, dts = [], []\n",
        "for n_components in cs:\n",
        "    print (\".\", end=\"\")\n",
        "    pca = PCA(n_components=n_components)\n",
        "    pca.fit(Xtr_v)\n",
        "\n",
        "    Xt_tr = pca.transform(Xtr_v)\n",
        "    Xt_ts = pca.transform(Xts_v)\n",
        "\n",
        "    dt.fit(Xt_tr,ytr_v)\n",
        "    ypreds_tr = dt.predict(Xt_tr)\n",
        "    ypreds_ts = dt.predict(Xt_ts)\n",
        "    ypreds_tr.shape, ypreds_ts.shape\n",
        "    dtr.append(np.mean(ytr_v==ypreds_tr))\n",
        "    dts.append(np.mean(yts_v==ypreds_ts))"
      ]
    },
    {
      "cell_type": "code",
      "execution_count": 15,
      "metadata": {
        "colab": {
          "base_uri": "https://localhost:8080/",
          "height": 296
        },
        "id": "kT-Yyh0MyPl7",
        "outputId": "8caa1d98-e480-4ee5-ff95-cbac6b041aa9"
      },
      "outputs": [
        {
          "data": {
            "text/plain": [
              "<matplotlib.legend.Legend at 0x1d83a0cbe80>"
            ]
          },
          "execution_count": 15,
          "metadata": {},
          "output_type": "execute_result"
        },
        {
          "data": {
            "image/png": "[encoded data removed]",
            "text/plain": [
              "<Figure size 432x288 with 1 Axes>"
            ]
          },
          "metadata": {
            "needs_background": "light"
          },
          "output_type": "display_data"
        }
      ],
      "source": [
        "plt.plot(cs, dtr, label=\"train\")\n",
        "plt.plot(cs, dts, label=\"validation\")\n",
        "plt.xlabel(\"n components\")\n",
        "plt.ylabel(\"% acierto\")\n",
        "plt.legend()"
      ]
    },
    {
      "cell_type": "code",
      "execution_count": 16,
      "metadata": {
        "colab": {
          "base_uri": "https://localhost:8080/"
        },
        "id": "I7Qs7Ek2yTJd",
        "outputId": "d01c35a9-b398-4470-9810-09e85364f4f2"
      },
      "outputs": [
        {
          "data": {
            "text/plain": [
              "135"
            ]
          },
          "execution_count": 16,
          "metadata": {},
          "output_type": "execute_result"
        }
      ],
      "source": [
        "best_cs = cs[np.argmax(dts)]\n",
        "best_cs"
      ]
    },
    {
      "cell_type": "code",
      "execution_count": 17,
      "metadata": {
        "id": "dApyHcGEyeRE"
      },
      "outputs": [],
      "source": [
        "estimator_2 = Pipeline(((\"pca\", PCA(n_components=best_cs)), (\"estimator\", estimator)))"
      ]
    },
    {
      "cell_type": "code",
      "execution_count": 18,
      "metadata": {
        "colab": {
          "base_uri": "https://localhost:8080/"
        },
        "id": "RptLabmaygKY",
        "outputId": "2319026d-d4b9-40dc-940a-436312f9a137"
      },
      "outputs": [
        {
          "name": "stdout",
          "output_type": "stream",
          "text": [
            "validation score   0.875 (±0.0053) with 10 splits\n",
            "train score        0.888 (±0.0038) with 10 splits\n"
          ]
        }
      ],
      "source": [
        "cross_val = cross_validate(estimator_2, Xtv, ytv, return_train_score=True, return_estimator=True,\n",
        "               cv=ShuffleSplit(n_splits=10, test_size=val_size))\n",
        "report_cv_score(cross_val)"
      ]
    },
    {
      "cell_type": "markdown",
      "metadata": {
        "id": "cesV88FNylBS"
      },
      "source": [
        "## Learning curve for Logistic Regression with PCA"
      ]
    },
    {
      "cell_type": "code",
      "execution_count": 19,
      "metadata": {
        "colab": {
          "base_uri": "https://localhost:8080/",
          "height": 295
        },
        "id": "PZ7J6ujeyjJD",
        "outputId": "166150ab-51fe-4587-8730-fcd3b0fa2f9e"
      },
      "outputs": [
        {
          "data": {
            "image/png": "[encoded data removed]",
            "text/plain": [
              "<Figure size 432x288 with 1 Axes>"
            ]
          },
          "metadata": {
            "needs_background": "light"
          },
          "output_type": "display_data"
        }
      ],
      "source": [
        "estimator_2 = Pipeline(((\"pca\", PCA(n_components=best_cs)), (\"estimator\", estimator)))\n",
        "cv = ShuffleSplit(n_splits=10, test_size=val_size)\n",
        "plot_learning_curve(estimator_2,Xtv,ytv,cv=cv)"
      ]
    },
    {
      "cell_type": "markdown",
      "metadata": {
        "id": "sdRj15LA0sOP"
      },
      "source": [
        "# Model selection"
      ]
    },
    {
      "cell_type": "code",
      "execution_count": 20,
      "metadata": {
        "colab": {
          "base_uri": "https://localhost:8080/"
        },
        "id": "XntXqijw0nt0",
        "outputId": "7d85312e-62b7-422b-ad62-01aeff942e67"
      },
      "outputs": [
        {
          "name": "stdout",
          "output_type": "stream",
          "text": [
            "--\n",
            "validation score   0.873 (±0.0058) with 10 splits\n",
            "train score        0.894 (±0.0053) with 10 splits\n",
            "--\n",
            "validation score   0.872 (±0.0070) with 10 splits\n",
            "train score        0.892 (±0.0029) with 10 splits\n",
            "selecting  0\n",
            "\n",
            "selected model\n",
            "LogisticRegression(max_iter=500)\n"
          ]
        }
      ],
      "source": [
        "zscores = []\n",
        "estimators = [estimator, estimator_2]\n",
        "for estimator in estimators:\n",
        "    print(\"--\")\n",
        "    z = cross_validate(estimator, Xtv, ytv, return_train_score=True, return_estimator=False,\n",
        "                        cv=ShuffleSplit(n_splits=10, test_size=val_size))\n",
        "    report_cv_score(z)\n",
        "    zscores.append(np.mean(z[\"test_score\"]))\n",
        "best = np.argmax(zscores)\n",
        "print (\"selecting \", best)\n",
        "best_estimator = estimators[best]\n",
        "print (\"\\nselected model\")\n",
        "print (best_estimator)"
      ]
    },
    {
      "cell_type": "markdown",
      "metadata": {
        "id": "YDlObY-p0uNy"
      },
      "source": [
        "# Model performance"
      ]
    },
    {
      "cell_type": "code",
      "execution_count": 21,
      "metadata": {
        "colab": {
          "base_uri": "https://localhost:8080/"
        },
        "id": "EstfVLoq2xP-",
        "outputId": "66bd2d07-f668-4cc9-e845-2242998df2c1"
      },
      "outputs": [
        {
          "name": "stdout",
          "output_type": "stream",
          "text": [
            "reported performance of selected model 0.880\n"
          ]
        }
      ],
      "source": [
        "best_estimator.fit(Xtv,ytv)\n",
        "reported_performance = best_estimator.score(Xts, yts)\n",
        "print (\"reported performance of selected model %.3f\"%reported_performance)"
      ]
    },
    {
      "cell_type": "markdown",
      "metadata": {
        "id": "69NJhzeT0v2k"
      },
      "source": [
        "# American Express Metric"
      ]
    },
    {
      "cell_type": "code",
      "execution_count": 22,
      "metadata": {
        "id": "Hb54TAH10yvg"
      },
      "outputs": [],
      "source": [
        "def amex_metric(y_true: pd.DataFrame, y_pred: pd.DataFrame) -> float:\n",
        "\n",
        "    def top_four_percent_captured(y_true: pd.DataFrame, y_pred: pd.DataFrame) -> float:\n",
        "        df = (pd.concat([y_true, y_pred], axis='columns')\n",
        "              .sort_values('prediction', ascending=False))\n",
        "        df['weight'] = df['target'].apply(lambda x: 20 if x==0 else 1)\n",
        "        four_pct_cutoff = int(0.04 * df['weight'].sum())\n",
        "        df['weight_cumsum'] = df['weight'].cumsum()\n",
        "        df_cutoff = df.loc[df['weight_cumsum'] <= four_pct_cutoff]\n",
        "        return (df_cutoff['target'] == 1).sum() / (df['target'] == 1).sum()\n",
        "        \n",
        "    def weighted_gini(y_true: pd.DataFrame, y_pred: pd.DataFrame) -> float:\n",
        "        df = (pd.concat([y_true, y_pred], axis='columns')\n",
        "              .sort_values('prediction', ascending=False))\n",
        "        df['weight'] = df['target'].apply(lambda x: 20 if x==0 else 1)\n",
        "        df['random'] = (df['weight'] / df['weight'].sum()).cumsum()\n",
        "        total_pos = (df['target'] * df['weight']).sum()\n",
        "        df['cum_pos_found'] = (df['target'] * df['weight']).cumsum()\n",
        "        df['lorentz'] = df['cum_pos_found'] / total_pos\n",
        "        df['gini'] = (df['lorentz'] - df['random']) * df['weight']\n",
        "        return df['gini'].sum()\n",
        "    def normalized_weighted_gini(y_true: pd.DataFrame, y_pred: pd.DataFrame) -> float:\n",
        "        y_true_pred = y_true.rename(columns={'target': 'prediction'})\n",
        "        return weighted_gini(y_true, y_pred) / weighted_gini(y_true, y_true_pred)\n",
        "\n",
        "    g = normalized_weighted_gini(y_true, y_pred)\n",
        "    d = top_four_percent_captured(y_true, y_pred)\n",
        "\n",
        "    return 0.5 * (g + d)"
      ]
    },
    {
      "cell_type": "code",
      "execution_count": 23,
      "metadata": {
        "id": "ydFQsF472KVD"
      },
      "outputs": [],
      "source": [
        "predicts = best_estimator.predict_proba(X)"
      ]
    },
    {
      "cell_type": "code",
      "execution_count": 24,
      "metadata": {
        "id": "WVn3uhEK2ND9"
      },
      "outputs": [],
      "source": [
        "prob = np.array([predicts[item][1] for item in range(len(predicts))])"
      ]
    },
    {
      "cell_type": "code",
      "execution_count": 25,
      "metadata": {
        "id": "l0k76Kyg2Pkp"
      },
      "outputs": [],
      "source": [
        "data['prediction'] = prob"
      ]
    },
    {
      "cell_type": "code",
      "execution_count": 26,
      "metadata": {
        "id": "hSOE0hFd2Q3B"
      },
      "outputs": [],
      "source": [
        "df_pred = pd.DataFrame(data['prediction'])"
      ]
    },
    {
      "cell_type": "code",
      "execution_count": 27,
      "metadata": {
        "id": "zBIgMHJ72SPJ"
      },
      "outputs": [],
      "source": [
        "df_y = pd.DataFrame(y)"
      ]
    },
    {
      "cell_type": "code",
      "execution_count": 28,
      "metadata": {
        "colab": {
          "base_uri": "https://localhost:8080/"
        },
        "id": "ZMUt8Ya72T1p",
        "outputId": "d219a2c3-ecb4-4364-8488-f7ddd48b2071"
      },
      "outputs": [
        {
          "name": "stdout",
          "output_type": "stream",
          "text": [
            "La métrica evaluada por American Express es 0.732 \n"
          ]
        }
      ],
      "source": [
        "print('La métrica evaluada por American Express es %.3f ' %amex_metric(df_y,df_pred))"
      ]
    }
  ],
  "metadata": {
    "colab": {
      "collapsed_sections": [],
      "provenance": []
    },
    "kernelspec": {
      "display_name": "Python 3.9.12 ('base')",
      "language": "python",
      "name": "python3"
    },
    "language_info": {
      "codemirror_mode": {
        "name": "ipython",
        "version": 3
      },
      "file_extension": ".py",
      "mimetype": "text/x-python",
      "name": "python",
      "nbconvert_exporter": "python",
      "pygments_lexer": "ipython3",
      "version": "3.9.12"
    },
    "vscode": {
      "interpreter": {
        "hash": "a8e1702f5d5b5268ae13b81a02cbadccecc37d96c57814c7fc8c26e59953e814"
      }
    }
  },
  "nbformat": 4,
  "nbformat_minor": 0
}
